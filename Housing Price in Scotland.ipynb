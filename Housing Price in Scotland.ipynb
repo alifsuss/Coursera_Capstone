{
 "cells": [
  {
   "cell_type": "markdown",
   "metadata": {},
   "source": [
    "# House Price in Scotland\n",
    "by Alif Sussardi"
   ]
  },
  {
   "cell_type": "markdown",
   "metadata": {},
   "source": [
    "## A. Introduction"
   ]
  },
  {
   "cell_type": "markdown",
   "metadata": {},
   "source": [
    "## A.1. Background"
   ]
  },
  {
   "cell_type": "markdown",
   "metadata": {},
   "source": [
    "Scotland is one of the least populated area in the UK. With land area comprises of 32% of the total area in the UK, but only contributes to only 8.2 total population.[1] The most populated cities: Glasgow and Edinburgh are beautiful with large population of immigrants. As a resident of Edinburgh, where the rent is increasing every year, it is makes sense for me to understand how housing price is determined. \n",
    "Edinburgh is very touristy area, where many hotels and eating place always available nearby. Glasgow on the other hand, is relying on commerce. There are other places such as Aberdeen and Dundee which is more industrial where people do economic activities. In contrast, Highland or Orkney Island is rural place where the population density is lower. \n",
    "There are many factors that can determine housing price other than its amenities, such as location, what available nearby, and possibly the population density in the area. The question would be whether the housing price in Scotland is related to the population density and what available nearby, and what characteristics in each County. And to know which place is the best for investing in certain business.\n"
   ]
  },
  {
   "cell_type": "markdown",
   "metadata": {},
   "source": [
    "## A.2. Data Description\n"
   ]
  },
  {
   "cell_type": "markdown",
   "metadata": {},
   "source": [
    "To answer the question and solve the problems, we can list data as below:\n",
    "- Scotland House Price of October 2020 is available from Register of Scotland (ROS) website[2]. This data contains Local Authority Code, Local Authority Name and The Average Price, as well as Total Value and Number of Transactions. \n",
    "\n",
    "- The previous year price (2019) is also used as a comparison to the most recent data[3].\n",
    "\n",
    "- The coordinate of each county is approximated using geolocator based on its Local Authority Name. This goespatial coordinate then will be used to find venues available in each County/Local Authority.\n",
    "\n",
    "- The Scotland geospatial JSON is also collected from a github my martinjc [4] to be utilised to graph choropleth map according to data that has been processed.\n",
    "\n",
    "- To know whether the population density affecting the price, land area data [5] and population data [6] are collected from ROS and Office of National Statistics (ONS) website. \n",
    "\n",
    "Venue data obtained from Foursquare, Population Density, etc will be compared with the Average Housing Price. The venue data will also be used to see whether the county can be clustered accordingly and whether there is a relation between the cluster and the Housing Price. \n"
   ]
  },
  {
   "cell_type": "markdown",
   "metadata": {},
   "source": [
    "## References"
   ]
  },
  {
   "cell_type": "markdown",
   "metadata": {},
   "source": [
    "[1] https://en.wikipedia.org/wiki/Demography_of_Scotland\n",
    "[3] https://www.ros.gov.uk/__data/assets/excel_doc/0010/173575/RoS_monthly-house-price-statistics_tables_Oct-2020.xlsx\n",
    "\n",
    "[3] https://www.ros.gov.uk/__data/assets/excel_doc/0007/171385/RoS_quarterly-house-price-statistics_tables_2020-21-Q2_July-to-September-2020.xlsx\n",
    "\n",
    "[4] https://github.com/martinjc/UK-GeoJSON/raw/master/json/administrative/sco/lad.json\n",
    "\n",
    "[5] https://www.ros.gov.uk/__data/assets/excel_doc/0016/162016/property-market-report-2019-2020.xlsx\n",
    "\n",
    "[6] https://www.ons.gov.uk/file?uri=%2fpeoplepopulationandcommunity%2fpopulationandmigration%2fpopulationestimates%2fdatasets%2fpopulationestimatesforukenglandandwalesscotlandandnorthernireland%2fmid2019april2020localauthoritydistrictcodes/ukmidyearestimates20192020ladcodes.xls"
   ]
  }
 ],
 "metadata": {
  "kernelspec": {
   "display_name": "Python 3",
   "language": "python",
   "name": "python3"
  },
  "language_info": {
   "codemirror_mode": {
    "name": "ipython",
    "version": 3
   },
   "file_extension": ".py",
   "mimetype": "text/x-python",
   "name": "python",
   "nbconvert_exporter": "python",
   "pygments_lexer": "ipython3",
   "version": "3.8.5"
  }
 },
 "nbformat": 4,
 "nbformat_minor": 4
}
